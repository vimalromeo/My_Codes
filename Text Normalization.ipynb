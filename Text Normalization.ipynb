{
 "cells": [
  {
   "cell_type": "code",
   "execution_count": 4,
   "metadata": {
    "collapsed": false
   },
   "outputs": [],
   "source": [
    "import pandas as pd\n",
    "import numpy as np\n",
    "import os\n",
    "import pickle\n",
    "import gc\n",
    "import xgboost as xgb\n",
    "import numpy as np\n",
    "import re\n",
    "import pandas as pd\n",
    "from sklearn.cross_validation import train_test_split"
   ]
  },
  {
   "cell_type": "code",
   "execution_count": 5,
   "metadata": {
    "collapsed": true
   },
   "outputs": [],
   "source": [
    "max_num_features = 10\n",
    "pad_size = 1\n",
    "boundary_letter = -1\n",
    "space_letter = 0\n",
    "max_data_size = 320000"
   ]
  },
  {
   "cell_type": "code",
   "execution_count": 7,
   "metadata": {
    "collapsed": false
   },
   "outputs": [
    {
     "data": {
      "text/html": [
       "<div>\n",
       "<table border=\"1\" class=\"dataframe\">\n",
       "  <thead>\n",
       "    <tr style=\"text-align: right;\">\n",
       "      <th></th>\n",
       "      <th>sentence_id</th>\n",
       "      <th>token_id</th>\n",
       "      <th>class</th>\n",
       "      <th>before</th>\n",
       "      <th>after</th>\n",
       "    </tr>\n",
       "  </thead>\n",
       "  <tbody>\n",
       "    <tr>\n",
       "      <th>0</th>\n",
       "      <td>0</td>\n",
       "      <td>0</td>\n",
       "      <td>PLAIN</td>\n",
       "      <td>Brillantaisia</td>\n",
       "      <td>Brillantaisia</td>\n",
       "    </tr>\n",
       "    <tr>\n",
       "      <th>1</th>\n",
       "      <td>0</td>\n",
       "      <td>1</td>\n",
       "      <td>PLAIN</td>\n",
       "      <td>is</td>\n",
       "      <td>is</td>\n",
       "    </tr>\n",
       "    <tr>\n",
       "      <th>2</th>\n",
       "      <td>0</td>\n",
       "      <td>2</td>\n",
       "      <td>PLAIN</td>\n",
       "      <td>a</td>\n",
       "      <td>a</td>\n",
       "    </tr>\n",
       "    <tr>\n",
       "      <th>3</th>\n",
       "      <td>0</td>\n",
       "      <td>3</td>\n",
       "      <td>PLAIN</td>\n",
       "      <td>genus</td>\n",
       "      <td>genus</td>\n",
       "    </tr>\n",
       "    <tr>\n",
       "      <th>4</th>\n",
       "      <td>0</td>\n",
       "      <td>4</td>\n",
       "      <td>PLAIN</td>\n",
       "      <td>of</td>\n",
       "      <td>of</td>\n",
       "    </tr>\n",
       "  </tbody>\n",
       "</table>\n",
       "</div>"
      ],
      "text/plain": [
       "   sentence_id  token_id  class         before          after\n",
       "0            0         0  PLAIN  Brillantaisia  Brillantaisia\n",
       "1            0         1  PLAIN             is             is\n",
       "2            0         2  PLAIN              a              a\n",
       "3            0         3  PLAIN          genus          genus\n",
       "4            0         4  PLAIN             of             of"
      ]
     },
     "execution_count": 7,
     "metadata": {},
     "output_type": "execute_result"
    }
   ],
   "source": [
    "df = pd.read_csv('C:/Text_Normalization/en_train.csv')\n",
    "df.head()"
   ]
  },
  {
   "cell_type": "code",
   "execution_count": 8,
   "metadata": {
    "collapsed": true
   },
   "outputs": [],
   "source": [
    "x_data = []\n",
    "y_data =  pd.factorize(df['class'])\n",
    "labels = y_data[1]\n",
    "y_data = y_data[0]\n",
    "gc.collect()\n",
    "for x in df['before'].values:\n",
    "    x_row = np.ones(max_num_features, dtype=int) * space_letter\n",
    "    for xi, i in zip(list(str(x)), np.arange(max_num_features)):\n",
    "        x_row[i] = ord(xi)\n",
    "    x_data.append(x_row)"
   ]
  },
  {
   "cell_type": "code",
   "execution_count": 10,
   "metadata": {
    "collapsed": false
   },
   "outputs": [
    {
     "data": {
      "text/plain": [
       "[array([ 66, 114, 105, 108, 108,  97, 110, 116,  97, 105]),\n",
       " array([105, 115,   0,   0,   0,   0,   0,   0,   0,   0]),\n",
       " array([97,  0,  0,  0,  0,  0,  0,  0,  0,  0]),\n",
       " array([103, 101, 110, 117, 115,   0,   0,   0,   0,   0]),\n",
       " array([111, 102,   0,   0,   0,   0,   0,   0,   0,   0])]"
      ]
     },
     "execution_count": 10,
     "metadata": {},
     "output_type": "execute_result"
    }
   ],
   "source": [
    "x_data[:5]"
   ]
  },
  {
   "cell_type": "code",
   "execution_count": 11,
   "metadata": {
    "collapsed": true
   },
   "outputs": [],
   "source": [
    "def context_window_transform(data, pad_size):\n",
    "    pre = np.zeros(max_num_features)\n",
    "    pre = [pre for x in np.arange(pad_size)]\n",
    "    data = pre + data + pre\n",
    "    neo_data = []\n",
    "    for i in np.arange(len(data) - pad_size * 2):\n",
    "        row = []\n",
    "        for x in data[i : i + pad_size * 2 + 1]:\n",
    "            row.append([boundary_letter])\n",
    "            row.append(x)\n",
    "        row.append([boundary_letter])\n",
    "        neo_data.append([int(x) for y in row for x in y])\n",
    "    return neo_data"
   ]
  },
  {
   "cell_type": "code",
   "execution_count": 12,
   "metadata": {
    "collapsed": true
   },
   "outputs": [],
   "source": [
    "x_data = x_data[:max_data_size]\n",
    "y_data = y_data[:max_data_size]\n",
    "x_data = np.array(context_window_transform(x_data, pad_size))\n",
    "gc.collect()\n",
    "x_data = np.array(x_data)\n",
    "y_data = np.array(y_data)"
   ]
  },
  {
   "cell_type": "code",
   "execution_count": 13,
   "metadata": {
    "collapsed": false
   },
   "outputs": [
    {
     "name": "stdout",
     "output_type": "stream",
     "text": [
      "Total number of samples: 320000\n",
      "Use:  320000\n"
     ]
    }
   ],
   "source": [
    "print('Total number of samples:', len(x_data))\n",
    "print('Use: ', max_data_size)"
   ]
  },
  {
   "cell_type": "code",
   "execution_count": 14,
   "metadata": {
    "collapsed": false
   },
   "outputs": [
    {
     "name": "stdout",
     "output_type": "stream",
     "text": [
      "x_data sample:\n",
      "[ -1   0   0   0   0   0   0   0   0   0   0  -1  66 114 105 108 108  97\n",
      " 110 116  97 105  -1 105 115   0   0   0   0   0   0   0   0  -1]\n",
      "y_data sample:\n",
      "0\n",
      "labels:\n",
      "Index(['PLAIN', 'PUNCT', 'DATE', 'LETTERS', 'CARDINAL', 'VERBATIM', 'DECIMAL',\n",
      "       'MEASURE', 'MONEY', 'ORDINAL', 'TIME', 'ELECTRONIC', 'DIGIT',\n",
      "       'FRACTION', 'TELEPHONE', 'ADDRESS'],\n",
      "      dtype='object')\n"
     ]
    }
   ],
   "source": [
    "print('x_data sample:')\n",
    "print(x_data[0])\n",
    "print('y_data sample:')\n",
    "print(y_data[0])\n",
    "print('labels:')\n",
    "print(labels)"
   ]
  },
  {
   "cell_type": "code",
   "execution_count": 15,
   "metadata": {
    "collapsed": false
   },
   "outputs": [
    {
     "data": {
      "text/plain": [
       "0"
      ]
     },
     "execution_count": 15,
     "metadata": {},
     "output_type": "execute_result"
    }
   ],
   "source": [
    "x_train = x_data\n",
    "y_train = y_data\n",
    "gc.collect()"
   ]
  },
  {
   "cell_type": "code",
   "execution_count": 16,
   "metadata": {
    "collapsed": false
   },
   "outputs": [
    {
     "data": {
      "text/plain": [
       "0"
      ]
     },
     "execution_count": 16,
     "metadata": {},
     "output_type": "execute_result"
    }
   ],
   "source": [
    "x_train, x_valid, y_train, y_valid= train_test_split(x_train, y_train,\n",
    "                                                      test_size=0.1, random_state=2017)\n",
    "gc.collect()"
   ]
  },
  {
   "cell_type": "code",
   "execution_count": 17,
   "metadata": {
    "collapsed": true
   },
   "outputs": [],
   "source": [
    "num_class = len(labels)\n",
    "dtrain = xgb.DMatrix(x_train, label=y_train)\n",
    "dvalid = xgb.DMatrix(x_valid, label=y_valid)\n",
    "watchlist = [(dvalid, 'valid'), (dtrain, 'train')]"
   ]
  },
  {
   "cell_type": "code",
   "execution_count": 18,
   "metadata": {
    "collapsed": true
   },
   "outputs": [],
   "source": [
    "param = {'objective':'multi:softmax',\n",
    "         'eta':'0.3', 'max_depth':10,\n",
    "         'silent':1, 'nthread':-1,\n",
    "         'num_class':num_class,\n",
    "         'eval_metric':'merror'}"
   ]
  },
  {
   "cell_type": "code",
   "execution_count": 19,
   "metadata": {
    "collapsed": false
   },
   "outputs": [
    {
     "name": "stdout",
     "output_type": "stream",
     "text": [
      "[0]\tvalid-merror:0.007594\ttrain-merror:0.007781\n",
      "Multiple eval metrics have been passed: 'train-merror' will be used for early stopping.\n",
      "\n",
      "Will train until train-merror hasn't improved in 20 rounds.\n",
      "[10]\tvalid-merror:0.005469\ttrain-merror:0.003535\n",
      "[20]\tvalid-merror:0.004938\ttrain-merror:0.002073\n",
      "[30]\tvalid-merror:0.00475\ttrain-merror:0.001031\n",
      "[40]\tvalid-merror:0.004625\ttrain-merror:0.000493\n"
     ]
    }
   ],
   "source": [
    "model = xgb.train(param, dtrain, 50, watchlist, early_stopping_rounds=20,\n",
    "                  verbose_eval=10)"
   ]
  },
  {
   "cell_type": "code",
   "execution_count": 20,
   "metadata": {
    "collapsed": false
   },
   "outputs": [
    {
     "data": {
      "text/plain": [
       "0"
      ]
     },
     "execution_count": 20,
     "metadata": {},
     "output_type": "execute_result"
    }
   ],
   "source": [
    "pred = model.predict(dvalid)\n",
    "pred = [labels[int(x)] for x in pred]\n",
    "y_valid = [labels[x] for x in y_valid]\n",
    "x_valid = [ [ chr(x) for x in y[2 + max_num_features: 2 + max_num_features * 2]] for y in x_valid]\n",
    "x_valid = [''.join(x) for x in x_valid]\n",
    "x_valid = [re.sub('a+$', '', x) for x in x_valid]\n",
    "\n",
    "gc.collect()"
   ]
  },
  {
   "cell_type": "code",
   "execution_count": 21,
   "metadata": {
    "collapsed": true
   },
   "outputs": [],
   "source": [
    "df_pred = pd.DataFrame(columns=['data', 'predict', 'target'])\n",
    "df_pred['data'] = x_valid\n",
    "df_pred['predict'] = pred\n",
    "df_pred['target'] = y_valid"
   ]
  },
  {
   "cell_type": "code",
   "execution_count": 22,
   "metadata": {
    "collapsed": true
   },
   "outputs": [],
   "source": [
    "out_path = 'C:/Text_Normalization/'\n",
    "df_pred.to_csv(os.path.join(out_path, 'pred.csv'))\n",
    "\n",
    "df_erros = df_pred.loc[df_pred['predict'] != df_pred['target']]\n",
    "df_erros.to_csv(os.path.join(out_path, 'errors.csv'), index=False)\n",
    "\n",
    "model.save_model(os.path.join(out_path, 'xgb_model'))"
   ]
  },
  {
   "cell_type": "code",
   "execution_count": null,
   "metadata": {
    "collapsed": true
   },
   "outputs": [],
   "source": []
  }
 ],
 "metadata": {
  "anaconda-cloud": {},
  "kernelspec": {
   "display_name": "Python [conda root]",
   "language": "python",
   "name": "conda-root-py"
  },
  "language_info": {
   "codemirror_mode": {
    "name": "ipython",
    "version": 3
   },
   "file_extension": ".py",
   "mimetype": "text/x-python",
   "name": "python",
   "nbconvert_exporter": "python",
   "pygments_lexer": "ipython3",
   "version": "3.5.2"
  }
 },
 "nbformat": 4,
 "nbformat_minor": 2
}
