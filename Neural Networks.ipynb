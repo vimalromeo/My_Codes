{
 "cells": [
  {
   "cell_type": "code",
   "execution_count": 1,
   "metadata": {
    "collapsed": true
   },
   "outputs": [],
   "source": [
    "import numpy as np"
   ]
  },
  {
   "cell_type": "markdown",
   "metadata": {},
   "source": [
    "## Input and Output"
   ]
  },
  {
   "cell_type": "code",
   "execution_count": 12,
   "metadata": {
    "collapsed": true
   },
   "outputs": [],
   "source": [
    "#Inupt array\n",
    "X = np.array([[1,0,1,0],[1,0,1,1],[0,1,0,1]])\n",
    "#Output array\n",
    "y = np.array([[1],[1],[0]])"
   ]
  },
  {
   "cell_type": "code",
   "execution_count": 3,
   "metadata": {
    "collapsed": true
   },
   "outputs": [],
   "source": [
    "#Sigmoid function\n",
    "def sigmoid(x):\n",
    "    return 1/(1 + np.exp(-x))"
   ]
  },
  {
   "cell_type": "code",
   "execution_count": 4,
   "metadata": {
    "collapsed": true
   },
   "outputs": [],
   "source": [
    "#Derivative of sigmoid function\n",
    "def derivatives_sigmoid(x):\n",
    "    return x * (1 - x)"
   ]
  },
  {
   "cell_type": "code",
   "execution_count": 5,
   "metadata": {
    "collapsed": true
   },
   "outputs": [],
   "source": [
    "#Variable initialization\n",
    "epoch = 5000 # setting training iterations\n",
    "lr = 0.01 # Learning rate\n",
    "inputlayer_neurons = X.shape[1] # number of features in the dataset\n",
    "hiddenlayer_neurons = 3 # number of hidden layers\n",
    "output_neurons = 1 # number of neurons at th output layer"
   ]
  },
  {
   "cell_type": "code",
   "execution_count": 6,
   "metadata": {
    "collapsed": true
   },
   "outputs": [],
   "source": [
    "#Weight and bias initialization\n",
    "wh = np.random.uniform(size = (inputlayer_neurons,hiddenlayer_neurons))\n",
    "bh = np.random.uniform(size=(1,hiddenlayer_neurons))\n",
    "wout = np.random.uniform(size=(hiddenlayer_neurons,output_neurons))\n",
    "bout = np.random.uniform(size=(1,output_neurons))"
   ]
  },
  {
   "cell_type": "code",
   "execution_count": 15,
   "metadata": {
    "collapsed": false
   },
   "outputs": [
    {
     "name": "stdout",
     "output_type": "stream",
     "text": [
      "[[ 0.65393571]\n",
      " [ 0.72039855]\n",
      " [ 0.63637302]]\n"
     ]
    }
   ],
   "source": [
    "for i in range(epoch):\n",
    "    #Forward Propagation\n",
    "    hidden_layer_input1 = np.dot(X,wh)\n",
    "    hidden_layer_input = hiddenlayer_input1 + bh\n",
    "    hidden_layer_activations = sigmoid(hidden_layer_input)\n",
    "    output_layer_input1 = np.dot(hidden_layer_activations,wout)\n",
    "    output_layer_input = output_layer_input1 + bout\n",
    "    output = sigmoid(output_layer_input)\n",
    "    #Backpropagation\n",
    "    E = y - output\n",
    "    slope_output_layer = derivatives_sigmoid(output)\n",
    "    slope_hidden_layer = derivatives_sigmoid(hidden_layer_input)\n",
    "    d_output = E * slope_output_layer\n",
    "    Error_at_hidden_layer = d_output.dot(wout.T)\n",
    "    d_hiddenlayer = Error_at_hidden_layer * slope_hidden_layer\n",
    "    wout += hidden_layer_activations.T.dot(d_output) * lr\n",
    "    bout += np.sum(d_output, axis = 0, keepdims = True) * lr\n",
    "    wh += X.T.dot(d_hiddenlayer) * lr\n",
    "    bh += np.sum(d_hiddenlayer, axis = 0, keepdims = True) * lr\n",
    "##\n",
    "print(output)"
   ]
  },
  {
   "cell_type": "code",
   "execution_count": null,
   "metadata": {
    "collapsed": true
   },
   "outputs": [],
   "source": []
  }
 ],
 "metadata": {
  "anaconda-cloud": {},
  "kernelspec": {
   "display_name": "Python [conda root]",
   "language": "python",
   "name": "conda-root-py"
  },
  "language_info": {
   "codemirror_mode": {
    "name": "ipython",
    "version": 3
   },
   "file_extension": ".py",
   "mimetype": "text/x-python",
   "name": "python",
   "nbconvert_exporter": "python",
   "pygments_lexer": "ipython3",
   "version": "3.5.2"
  }
 },
 "nbformat": 4,
 "nbformat_minor": 1
}
