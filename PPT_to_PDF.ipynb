{
 "cells": [
  {
   "cell_type": "code",
   "execution_count": 1,
   "metadata": {
    "collapsed": true
   },
   "outputs": [],
   "source": [
    "import sys  \n",
    "import os  \n",
    "import glob  \n",
    "import win32com.client"
   ]
  },
  {
   "cell_type": "code",
   "execution_count": 8,
   "metadata": {
    "collapsed": true
   },
   "outputs": [],
   "source": [
    "dir =  r\"C:\\Cruscotto Evolved\\Repository\"  \n",
    "outputdir = r\"C:\\Cruscotto Evolved\\Repository\\pdf\"  "
   ]
  },
  {
   "cell_type": "code",
   "execution_count": 9,
   "metadata": {
    "collapsed": true
   },
   "outputs": [],
   "source": [
    " \n",
    "def convert(files, formatType = 32):  \n",
    "    powerpoint = win32com.client.Dispatch(\"Powerpoint.Application\")  \n",
    "    powerpoint.Visible = 1  \n",
    "    for filename in files:  \n",
    "        newname = os.path.splitext(filename)[0] + \".pdf\"  \n",
    "        newname = os.path.split(newname)[1]   \n",
    "        newname = os.path.join(outputdir,newname)  \n",
    "        deck = powerpoint.Presentations.Open(filename)          \n",
    "        deck.SaveAs(newname, formatType)  \n",
    "        deck.Close()  \n",
    "    powerpoint.Quit()  "
   ]
  },
  {
   "cell_type": "code",
   "execution_count": 10,
   "metadata": {
    "collapsed": false
   },
   "outputs": [],
   "source": [
    "files = glob.glob(os.path.join(dir,\"*.ppt*\"))  \n",
    "#print(files)  \n",
    "convert(files)"
   ]
  },
  {
   "cell_type": "code",
   "execution_count": null,
   "metadata": {
    "collapsed": true
   },
   "outputs": [],
   "source": []
  }
 ],
 "metadata": {
  "anaconda-cloud": {},
  "kernelspec": {
   "display_name": "Python [conda root]",
   "language": "python",
   "name": "conda-root-py"
  },
  "language_info": {
   "codemirror_mode": {
    "name": "ipython",
    "version": 3
   },
   "file_extension": ".py",
   "mimetype": "text/x-python",
   "name": "python",
   "nbconvert_exporter": "python",
   "pygments_lexer": "ipython3",
   "version": "3.5.2"
  }
 },
 "nbformat": 4,
 "nbformat_minor": 2
}
